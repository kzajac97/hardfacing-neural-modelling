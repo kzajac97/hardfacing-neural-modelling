{
 "cells": [
  {
   "cell_type": "markdown",
   "metadata": {},
   "source": [
    "# Baselines\n",
    "\n",
    "This notebook contains baseline models for hardness modelling problem.\n",
    "\n",
    "### Setup"
   ]
  },
  {
   "cell_type": "code",
   "execution_count": 1,
   "metadata": {},
   "outputs": [],
   "source": [
    "import sys\n",
    "\n",
    "sys.path.append(r\"..\")"
   ]
  },
  {
   "cell_type": "code",
   "execution_count": 2,
   "metadata": {},
   "outputs": [],
   "source": [
    "import joblib\n",
    "import numpy as np\n",
    "import pandas as pd\n",
    "import wandb\n",
    "from matplotlib import pyplot as plt\n",
    "from sklearn.model_selection import GridSearchCV\n",
    "from sklearn.linear_model import LinearRegression\n",
    "from sklearn.svm import SVR\n",
    "import tensorflow as tf\n",
    "from wandb.keras import WandbCallback\n",
    "\n",
    "from src.plotting import plot_hardness\n",
    "from src.metrics import regression_report, regression_score"
   ]
  },
  {
   "cell_type": "markdown",
   "metadata": {},
   "source": [
    "### Data"
   ]
  },
  {
   "cell_type": "code",
   "execution_count": 3,
   "metadata": {},
   "outputs": [],
   "source": [
    "train_df = pd.read_csv(r\"../data/train.csv\")\n",
    "validation_df = pd.read_csv(r\"../data/validation.csv\")\n",
    "test_df = pd.read_csv(r\"../data/test.csv\")\n",
    "\n",
    "feature_preprocessor = joblib.load(r\"../models/feature_preprocessor.joblib\")\n",
    "target_preprocessor = joblib.load(r\"../models/target_preprocessor.joblib\")"
   ]
  },
  {
   "cell_type": "code",
   "execution_count": 4,
   "metadata": {},
   "outputs": [],
   "source": [
    "feature_columns = [\"Distance\", \"Electric Current\", \"Speed\", \"Beads\", \"Bead Type Feature\"]\n",
    "target_columns = [\"Hardness\"]"
   ]
  },
  {
   "cell_type": "markdown",
   "metadata": {},
   "source": [
    "### Baselines\n",
    "\n",
    "Use baseline models to evalute against. <br>\n",
    "Results might be slightly different than those reported in the paper.\n",
    "\n",
    "### Linear Regression"
   ]
  },
  {
   "cell_type": "code",
   "execution_count": 5,
   "metadata": {},
   "outputs": [
    {
     "data": {
      "text/plain": [
       "LinearRegression()"
      ]
     },
     "execution_count": 5,
     "metadata": {},
     "output_type": "execute_result"
    }
   ],
   "source": [
    "linear_regression_model = LinearRegression()\n",
    "linear_regression_model.fit(train_df[feature_columns].values, train_df[target_columns].values)"
   ]
  },
  {
   "cell_type": "code",
   "execution_count": 6,
   "metadata": {},
   "outputs": [],
   "source": [
    "predictions = linear_regression_model.predict(validation_df[feature_columns].values)\n",
    "predicted_hardness = target_preprocessor.inverse_transform(predictions)"
   ]
  },
  {
   "cell_type": "code",
   "execution_count": 7,
   "metadata": {},
   "outputs": [
    {
     "name": "stdout",
     "output_type": "stream",
     "text": [
      "                                Absolute                        Normalized                      \n",
      "\n",
      "Mean Squared Error:             10941.1330                      0.3457                          \n",
      "Root Mean Squared Error:        104.5999                        0.4725                          \n",
      "Mean Absolute Error:            88.4826                         0.4725                          \n",
      "Median Absolute Error:          89.7381                         0.3682                          \n",
      "Max Error:                      236.6059                        0.3768                          \n",
      "R2                                                              0.5629                          \n",
      "\n",
      "\n",
      "                                True                            Predicted                       \n",
      "\n",
      "Mean:                           239.8083                        260.3124                        \n",
      "std:                            158.2168                        124.7511                        \n",
      "\n"
     ]
    }
   ],
   "source": [
    "print(regression_report(y_true=validation_df[target_columns].values.flatten(), y_pred=predicted_hardness.flatten()))"
   ]
  },
  {
   "cell_type": "code",
   "execution_count": 8,
   "metadata": {},
   "outputs": [
    {
     "data": {
      "text/plain": [
       "['../models/linear_regression.model']"
      ]
     },
     "execution_count": 8,
     "metadata": {},
     "output_type": "execute_result"
    }
   ],
   "source": [
    "joblib.dump(linear_regression_model, \"../models/linear_regression.model\")"
   ]
  },
  {
   "cell_type": "markdown",
   "metadata": {},
   "source": [
    "### SVR"
   ]
  },
  {
   "cell_type": "code",
   "execution_count": 9,
   "metadata": {},
   "outputs": [
    {
     "data": {
      "text/plain": [
       "GridSearchCV(estimator=SVR(),\n",
       "             param_grid={'C': array([ 0.1,  0.2,  0.3,  0.4,  0.5,  0.6,  0.7,  0.8,  0.9,  1. ,  1.1,\n",
       "        1.2,  1.3,  1.4,  1.5,  1.6,  1.7,  1.8,  1.9,  2. ,  2.1,  2.2,\n",
       "        2.3,  2.4,  2.5,  2.6,  2.7,  2.8,  2.9,  3. ,  3.1,  3.2,  3.3,\n",
       "        3.4,  3.5,  3.6,  3.7,  3.8,  3.9,  4. ,  4.1,  4.2,  4.3,  4.4,\n",
       "        4.5,  4.6,  4.7,  4.8,  4.9,  5. ,  5.1,  5.2,  5.3,  5.4,  5.5,\n",
       "        5.6,  5.7,  5.8,  5.9,  6. ,  6.1,  6.2,  6.3,  6.4,  6.5,  6.6,\n",
       "        6.7,  6.8,  6.9,  7. ,  7.1,  7.2,  7.3,  7.4,  7.5,  7.6,  7.7,\n",
       "        7.8,  7.9,  8. ,  8.1,  8.2,  8.3,  8.4,  8.5,  8.6,  8.7,  8.8,\n",
       "        8.9,  9. ,  9.1,  9.2,  9.3,  9.4,  9.5,  9.6,  9.7,  9.8,  9.9,\n",
       "       10. ]),\n",
       "                         'degree': [2, 3, 4, 5, 6, 7, 8, 9, 10],\n",
       "                         'kernel': ['linear', 'rbf', 'poly']})"
      ]
     },
     "execution_count": 9,
     "metadata": {},
     "output_type": "execute_result"
    }
   ],
   "source": [
    "grid = GridSearchCV(\n",
    "    estimator=SVR(),\n",
    "    param_grid={\n",
    "        \"kernel\": [\"linear\", \"rbf\", \"poly\"],\n",
    "        \"C\": np.linspace(0.1, 10, 100),\n",
    "        \"degree\": [2, 3, 4, 5, 6, 7, 8, 9, 10]\n",
    "    }\n",
    ")\n",
    "\n",
    "grid.fit(train_df[feature_columns].values, train_df[target_columns].values.ravel())"
   ]
  },
  {
   "cell_type": "code",
   "execution_count": 10,
   "metadata": {},
   "outputs": [
    {
     "data": {
      "text/html": [
       "<div>\n",
       "<style scoped>\n",
       "    .dataframe tbody tr th:only-of-type {\n",
       "        vertical-align: middle;\n",
       "    }\n",
       "\n",
       "    .dataframe tbody tr th {\n",
       "        vertical-align: top;\n",
       "    }\n",
       "\n",
       "    .dataframe thead th {\n",
       "        text-align: right;\n",
       "    }\n",
       "</style>\n",
       "<table border=\"1\" class=\"dataframe\">\n",
       "  <thead>\n",
       "    <tr style=\"text-align: right;\">\n",
       "      <th></th>\n",
       "      <th>param_C</th>\n",
       "      <th>param_degree</th>\n",
       "      <th>param_kernel</th>\n",
       "      <th>mean_test_score</th>\n",
       "      <th>std_test_score</th>\n",
       "      <th>rank_test_score</th>\n",
       "    </tr>\n",
       "  </thead>\n",
       "  <tbody>\n",
       "    <tr>\n",
       "      <th>2071</th>\n",
       "      <td>7.7</td>\n",
       "      <td>8</td>\n",
       "      <td>rbf</td>\n",
       "      <td>0.807318</td>\n",
       "      <td>0.058776</td>\n",
       "      <td>1</td>\n",
       "    </tr>\n",
       "    <tr>\n",
       "      <th>2068</th>\n",
       "      <td>7.7</td>\n",
       "      <td>7</td>\n",
       "      <td>rbf</td>\n",
       "      <td>0.807318</td>\n",
       "      <td>0.058776</td>\n",
       "      <td>1</td>\n",
       "    </tr>\n",
       "    <tr>\n",
       "      <th>2065</th>\n",
       "      <td>7.7</td>\n",
       "      <td>6</td>\n",
       "      <td>rbf</td>\n",
       "      <td>0.807318</td>\n",
       "      <td>0.058776</td>\n",
       "      <td>1</td>\n",
       "    </tr>\n",
       "    <tr>\n",
       "      <th>2077</th>\n",
       "      <td>7.7</td>\n",
       "      <td>10</td>\n",
       "      <td>rbf</td>\n",
       "      <td>0.807318</td>\n",
       "      <td>0.058776</td>\n",
       "      <td>1</td>\n",
       "    </tr>\n",
       "    <tr>\n",
       "      <th>2062</th>\n",
       "      <td>7.7</td>\n",
       "      <td>5</td>\n",
       "      <td>rbf</td>\n",
       "      <td>0.807318</td>\n",
       "      <td>0.058776</td>\n",
       "      <td>1</td>\n",
       "    </tr>\n",
       "    <tr>\n",
       "      <th>2059</th>\n",
       "      <td>7.7</td>\n",
       "      <td>4</td>\n",
       "      <td>rbf</td>\n",
       "      <td>0.807318</td>\n",
       "      <td>0.058776</td>\n",
       "      <td>1</td>\n",
       "    </tr>\n",
       "    <tr>\n",
       "      <th>2056</th>\n",
       "      <td>7.7</td>\n",
       "      <td>3</td>\n",
       "      <td>rbf</td>\n",
       "      <td>0.807318</td>\n",
       "      <td>0.058776</td>\n",
       "      <td>1</td>\n",
       "    </tr>\n",
       "    <tr>\n",
       "      <th>2053</th>\n",
       "      <td>7.7</td>\n",
       "      <td>2</td>\n",
       "      <td>rbf</td>\n",
       "      <td>0.807318</td>\n",
       "      <td>0.058776</td>\n",
       "      <td>1</td>\n",
       "    </tr>\n",
       "    <tr>\n",
       "      <th>2074</th>\n",
       "      <td>7.7</td>\n",
       "      <td>9</td>\n",
       "      <td>rbf</td>\n",
       "      <td>0.807318</td>\n",
       "      <td>0.058776</td>\n",
       "      <td>1</td>\n",
       "    </tr>\n",
       "    <tr>\n",
       "      <th>2002</th>\n",
       "      <td>7.5</td>\n",
       "      <td>3</td>\n",
       "      <td>rbf</td>\n",
       "      <td>0.807303</td>\n",
       "      <td>0.059550</td>\n",
       "      <td>10</td>\n",
       "    </tr>\n",
       "  </tbody>\n",
       "</table>\n",
       "</div>"
      ],
      "text/plain": [
       "     param_C param_degree param_kernel  mean_test_score  std_test_score  \\\n",
       "2071     7.7            8          rbf         0.807318        0.058776   \n",
       "2068     7.7            7          rbf         0.807318        0.058776   \n",
       "2065     7.7            6          rbf         0.807318        0.058776   \n",
       "2077     7.7           10          rbf         0.807318        0.058776   \n",
       "2062     7.7            5          rbf         0.807318        0.058776   \n",
       "2059     7.7            4          rbf         0.807318        0.058776   \n",
       "2056     7.7            3          rbf         0.807318        0.058776   \n",
       "2053     7.7            2          rbf         0.807318        0.058776   \n",
       "2074     7.7            9          rbf         0.807318        0.058776   \n",
       "2002     7.5            3          rbf         0.807303        0.059550   \n",
       "\n",
       "      rank_test_score  \n",
       "2071                1  \n",
       "2068                1  \n",
       "2065                1  \n",
       "2077                1  \n",
       "2062                1  \n",
       "2059                1  \n",
       "2056                1  \n",
       "2053                1  \n",
       "2074                1  \n",
       "2002               10  "
      ]
     },
     "execution_count": 10,
     "metadata": {},
     "output_type": "execute_result"
    }
   ],
   "source": [
    "pd.DataFrame(grid.cv_results_)[[\"param_C\", \"param_degree\", \"param_kernel\", \"mean_test_score\", \"std_test_score\", \"rank_test_score\"]].sort_values(by=\"rank_test_score\").head(10)"
   ]
  },
  {
   "cell_type": "code",
   "execution_count": 11,
   "metadata": {},
   "outputs": [],
   "source": [
    "predictions = grid.best_estimator_.predict(validation_df[feature_columns].values)\n",
    "predicted_hardness = target_preprocessor.inverse_transform(np.expand_dims(predictions, axis=-1))"
   ]
  },
  {
   "cell_type": "code",
   "execution_count": 12,
   "metadata": {},
   "outputs": [
    {
     "name": "stdout",
     "output_type": "stream",
     "text": [
      "                                Absolute                        Normalized                      \n",
      "\n",
      "Mean Squared Error:             6764.8094                       1.2103                          \n",
      "Root Mean Squared Error:        82.2485                         0.7431                          \n",
      "Mean Absolute Error:            58.3689                         0.7431                          \n",
      "Median Absolute Error:          33.2123                         0.4779                          \n",
      "Max Error:                      231.5113                        0.3686                          \n",
      "R2                                                              0.7298                          \n",
      "\n",
      "\n",
      "                                True                            Predicted                       \n",
      "\n",
      "Mean:                           239.8083                        245.8289                        \n",
      "std:                            158.2168                        137.4158                        \n",
      "\n"
     ]
    }
   ],
   "source": [
    "print(regression_report(y_true=validation_df[\"Hardness\"].values, y_pred=predicted_hardness))"
   ]
  },
  {
   "cell_type": "code",
   "execution_count": 13,
   "metadata": {},
   "outputs": [
    {
     "data": {
      "text/plain": [
       "['../models/svr.model']"
      ]
     },
     "execution_count": 13,
     "metadata": {},
     "output_type": "execute_result"
    }
   ],
   "source": [
    "joblib.dump(grid.best_estimator_, \"../models/svr.model\")"
   ]
  },
  {
   "cell_type": "markdown",
   "metadata": {},
   "source": [
    "# MLP\n",
    "\n",
    "Test different MLP models using `wandb` library and system. <br>\n",
    "Access to `wandb` is not a part of this repository, only code for execution is provided.\n",
    "\n",
    "Accounts for `wandb` can be create [here](https://wandb.ai/site). "
   ]
  },
  {
   "cell_type": "code",
   "execution_count": 14,
   "metadata": {},
   "outputs": [
    {
     "name": "stderr",
     "output_type": "stream",
     "text": [
      "Failed to detect the name of this notebook, you can set it manually with the WANDB_NOTEBOOK_NAME environment variable to enable code saving.\n",
      "\u001b[34m\u001b[1mwandb\u001b[0m: Currently logged in as: \u001b[33mkzajac\u001b[0m (use `wandb login --relogin` to force relogin)\n"
     ]
    },
    {
     "data": {
      "text/plain": [
       "True"
      ]
     },
     "execution_count": 14,
     "metadata": {},
     "output_type": "execute_result"
    }
   ],
   "source": [
    "wandb.login()"
   ]
  },
  {
   "cell_type": "code",
   "execution_count": 15,
   "metadata": {},
   "outputs": [
    {
     "name": "stdout",
     "output_type": "stream",
     "text": [
      "Create sweep with ID: meolpjgy\n",
      "Sweep URL: https://wandb.ai/kzajac/uncategorized/sweeps/meolpjgy\n"
     ]
    }
   ],
   "source": [
    "sweep_config = {\n",
    "    \"name\" : \"mlp-baseline-sweep\",\n",
    "    \"method\" : \"grid\",\n",
    "    \"metric\": {\n",
    "        \"name\": \"MSE\",\n",
    "        \"goal\": \"minimize\",\n",
    "    },\n",
    "    \"parameters\" : {\n",
    "        \"optimizer\": {\n",
    "            \"values\": [\"rmsprop\"]\n",
    "        },\n",
    "        \"n_layers\": {\n",
    "            \"values\": [1, 2, 3, 4, 5],\n",
    "        },\n",
    "        \"fc_layer_size\": {\n",
    "            \"values\": [8, 10, 12],\n",
    "        },\n",
    "        \"epochs\": {\n",
    "            \"values\": [1000]\n",
    "        },\n",
    "        \"activation\": {\n",
    "            \"values\": [\"tanh\", \"relu\", \"sigmoid\"],\n",
    "        },\n",
    "        \"patience\": {\n",
    "            \"values\": [10],\n",
    "        }\n",
    "    }\n",
    "}\n",
    "\n",
    "sweep_id = wandb.sweep(sweep_config)"
   ]
  },
  {
   "cell_type": "code",
   "execution_count": 16,
   "metadata": {},
   "outputs": [],
   "source": [
    "def model_from_parameters(parameters):\n",
    "    mlp_model = tf.keras.Sequential()\n",
    "    mlp_model.add(tf.keras.layers.InputLayer(input_shape=(5,)))  # number of inputs is fixed\n",
    "\n",
    "    for _ in range(parameters[\"n_layers\"]):\n",
    "        mlp_model.add(tf.keras.layers.Dense(parameters[\"fc_layer_size\"], activation=parameters[\"activation\"]))\n",
    "\n",
    "    mlp_model.add(tf.keras.layers.Dense(1, activation=\"linear\"))  # one output\n",
    "    \n",
    "    return mlp_model"
   ]
  },
  {
   "cell_type": "code",
   "execution_count": 19,
   "metadata": {},
   "outputs": [],
   "source": [
    "def train(config, features, targets): \n",
    "    model = model_from_parameters(config)  # creates an instance of model\n",
    "        \n",
    "    model.compile(optimizer=config[\"optimizer\"], loss=tf.losses.MeanSquaredError())\n",
    "    model.fit(\n",
    "        features.squeeze(),\n",
    "        targets.squeeze(),\n",
    "        epochs=config[\"epochs\"],\n",
    "        verbose=0,\n",
    "        validation_split=0.1,\n",
    "        callbacks=[tf.keras.callbacks.EarlyStopping(patience=config[\"patience\"], monitor=\"val_loss\"), WandbCallback()]\n",
    "    )\n",
    "        \n",
    "    return model\n",
    "        \n",
    "def test(model, features, targets):\n",
    "    predictions = model.predict(features.squeeze())\n",
    "    \n",
    "    # compute metrics\n",
    "    scores = regression_score(y_true=targets.flatten(), y_pred=predictions.flatten())\n",
    "    wandb.log(scores.to_dict())\n",
    "    \n",
    "def run_experiment():\n",
    "    with wandb.init() as run:\n",
    "        config = wandb.config\n",
    "        model = train(config, train_df[feature_columns].values, train_df[target_columns].values.ravel())\n",
    "        test(model, validation_df[feature_columns].values, validation_df[target_columns].values.ravel())"
   ]
  },
  {
   "cell_type": "code",
   "execution_count": 1,
   "metadata": {},
   "outputs": [],
   "source": [
    "# Runs takes around 10-20 minutes\n",
    "# wandb.agent(sweep_id, function=run_experiment)"
   ]
  }
 ],
 "metadata": {
  "interpreter": {
   "hash": "fda8face1f53e8ed909e2d651ab79bd8fa3aaaa114e08166ed00d9955d73b283"
  },
  "kernelspec": {
   "display_name": "Python 3.7.9 64-bit ('venv': venv)",
   "language": "python",
   "name": "python3"
  },
  "language_info": {
   "codemirror_mode": {
    "name": "ipython",
    "version": 3
   },
   "file_extension": ".py",
   "mimetype": "text/x-python",
   "name": "python",
   "nbconvert_exporter": "python",
   "pygments_lexer": "ipython3",
   "version": "3.7.9"
  },
  "orig_nbformat": 4
 },
 "nbformat": 4,
 "nbformat_minor": 2
}
