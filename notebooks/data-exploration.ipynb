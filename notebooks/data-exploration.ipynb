{
 "cells": [
  {
   "cell_type": "markdown",
   "metadata": {},
   "source": [
    "# Data Exploration\n",
    "\n",
    "This notebook contains data exploration and preprocessing before running experiments.\n",
    "\n",
    "### Setup"
   ]
  },
  {
   "cell_type": "code",
   "execution_count": 1,
   "metadata": {},
   "outputs": [],
   "source": [
    "import sys\n",
    "\n",
    "sys.path.append(r\"..\")"
   ]
  },
  {
   "cell_type": "code",
   "execution_count": 17,
   "metadata": {},
   "outputs": [],
   "source": [
    "import joblib\n",
    "import numpy as np\n",
    "import pandas as pd\n",
    "from matplotlib import pyplot as plt\n",
    "from sklearn.model_selection import train_test_split\n",
    "from sklearn import preprocessing\n",
    "\n",
    "from src.plotting import plot_hardness"
   ]
  },
  {
   "cell_type": "code",
   "execution_count": 3,
   "metadata": {},
   "outputs": [],
   "source": [
    "plt.rcParams[\"figure.figsize\"] = (16, 10)"
   ]
  },
  {
   "cell_type": "markdown",
   "metadata": {},
   "source": [
    "### Data"
   ]
  },
  {
   "cell_type": "code",
   "execution_count": 4,
   "metadata": {},
   "outputs": [
    {
     "data": {
      "text/html": [
       "<div>\n",
       "<style scoped>\n",
       "    .dataframe tbody tr th:only-of-type {\n",
       "        vertical-align: middle;\n",
       "    }\n",
       "\n",
       "    .dataframe tbody tr th {\n",
       "        vertical-align: top;\n",
       "    }\n",
       "\n",
       "    .dataframe thead th {\n",
       "        text-align: right;\n",
       "    }\n",
       "</style>\n",
       "<table border=\"1\" class=\"dataframe\">\n",
       "  <thead>\n",
       "    <tr style=\"text-align: right;\">\n",
       "      <th></th>\n",
       "      <th>Sample</th>\n",
       "      <th>Distance</th>\n",
       "      <th>Hardness</th>\n",
       "      <th>Mixing</th>\n",
       "      <th>Eletric Current</th>\n",
       "      <th>Speed</th>\n",
       "      <th>Beads</th>\n",
       "      <th>Bead Type</th>\n",
       "    </tr>\n",
       "  </thead>\n",
       "  <tbody>\n",
       "    <tr>\n",
       "      <th>0</th>\n",
       "      <td>1C1</td>\n",
       "      <td>0.5</td>\n",
       "      <td>394</td>\n",
       "      <td>20.943613</td>\n",
       "      <td>136</td>\n",
       "      <td>10</td>\n",
       "      <td>1</td>\n",
       "      <td>Single</td>\n",
       "    </tr>\n",
       "    <tr>\n",
       "      <th>1</th>\n",
       "      <td>1C1</td>\n",
       "      <td>1.0</td>\n",
       "      <td>422</td>\n",
       "      <td>20.943613</td>\n",
       "      <td>136</td>\n",
       "      <td>10</td>\n",
       "      <td>1</td>\n",
       "      <td>Single</td>\n",
       "    </tr>\n",
       "    <tr>\n",
       "      <th>2</th>\n",
       "      <td>1C1</td>\n",
       "      <td>1.5</td>\n",
       "      <td>433</td>\n",
       "      <td>20.943613</td>\n",
       "      <td>136</td>\n",
       "      <td>10</td>\n",
       "      <td>1</td>\n",
       "      <td>Single</td>\n",
       "    </tr>\n",
       "    <tr>\n",
       "      <th>3</th>\n",
       "      <td>1C1</td>\n",
       "      <td>2.0</td>\n",
       "      <td>440</td>\n",
       "      <td>20.943613</td>\n",
       "      <td>136</td>\n",
       "      <td>10</td>\n",
       "      <td>1</td>\n",
       "      <td>Single</td>\n",
       "    </tr>\n",
       "    <tr>\n",
       "      <th>4</th>\n",
       "      <td>1C1</td>\n",
       "      <td>2.5</td>\n",
       "      <td>205</td>\n",
       "      <td>20.943613</td>\n",
       "      <td>136</td>\n",
       "      <td>10</td>\n",
       "      <td>1</td>\n",
       "      <td>Single</td>\n",
       "    </tr>\n",
       "  </tbody>\n",
       "</table>\n",
       "</div>"
      ],
      "text/plain": [
       "  Sample  Distance  Hardness     Mixing  Eletric Current  Speed  Beads  \\\n",
       "0    1C1       0.5       394  20.943613              136     10      1   \n",
       "1    1C1       1.0       422  20.943613              136     10      1   \n",
       "2    1C1       1.5       433  20.943613              136     10      1   \n",
       "3    1C1       2.0       440  20.943613              136     10      1   \n",
       "4    1C1       2.5       205  20.943613              136     10      1   \n",
       "\n",
       "  Bead Type  \n",
       "0    Single  \n",
       "1    Single  \n",
       "2    Single  \n",
       "3    Single  \n",
       "4    Single  "
      ]
     },
     "execution_count": 4,
     "metadata": {},
     "output_type": "execute_result"
    }
   ],
   "source": [
    "measurements_df = pd.read_csv(r\"../data/measurements.csv\")\n",
    "measurements_df.head()"
   ]
  },
  {
   "cell_type": "code",
   "execution_count": 5,
   "metadata": {},
   "outputs": [
    {
     "data": {
      "text/html": [
       "<div>\n",
       "<style scoped>\n",
       "    .dataframe tbody tr th:only-of-type {\n",
       "        vertical-align: middle;\n",
       "    }\n",
       "\n",
       "    .dataframe tbody tr th {\n",
       "        vertical-align: top;\n",
       "    }\n",
       "\n",
       "    .dataframe thead th {\n",
       "        text-align: right;\n",
       "    }\n",
       "</style>\n",
       "<table border=\"1\" class=\"dataframe\">\n",
       "  <thead>\n",
       "    <tr style=\"text-align: right;\">\n",
       "      <th></th>\n",
       "      <th>Distance</th>\n",
       "      <th>Hardness</th>\n",
       "      <th>Mixing</th>\n",
       "      <th>Eletric Current</th>\n",
       "      <th>Speed</th>\n",
       "      <th>Beads</th>\n",
       "    </tr>\n",
       "  </thead>\n",
       "  <tbody>\n",
       "    <tr>\n",
       "      <th>count</th>\n",
       "      <td>456.00</td>\n",
       "      <td>456.00</td>\n",
       "      <td>456.00</td>\n",
       "      <td>456.00</td>\n",
       "      <td>456.00</td>\n",
       "      <td>456.00</td>\n",
       "    </tr>\n",
       "    <tr>\n",
       "      <th>mean</th>\n",
       "      <td>5.00</td>\n",
       "      <td>265.74</td>\n",
       "      <td>21.78</td>\n",
       "      <td>170.00</td>\n",
       "      <td>10.00</td>\n",
       "      <td>1.75</td>\n",
       "    </tr>\n",
       "    <tr>\n",
       "      <th>std</th>\n",
       "      <td>2.74</td>\n",
       "      <td>169.95</td>\n",
       "      <td>7.58</td>\n",
       "      <td>19.65</td>\n",
       "      <td>1.16</td>\n",
       "      <td>0.43</td>\n",
       "    </tr>\n",
       "    <tr>\n",
       "      <th>min</th>\n",
       "      <td>0.50</td>\n",
       "      <td>104.00</td>\n",
       "      <td>7.97</td>\n",
       "      <td>136.00</td>\n",
       "      <td>8.00</td>\n",
       "      <td>1.00</td>\n",
       "    </tr>\n",
       "    <tr>\n",
       "      <th>25%</th>\n",
       "      <td>2.50</td>\n",
       "      <td>139.75</td>\n",
       "      <td>16.25</td>\n",
       "      <td>170.00</td>\n",
       "      <td>10.00</td>\n",
       "      <td>1.75</td>\n",
       "    </tr>\n",
       "    <tr>\n",
       "      <th>50%</th>\n",
       "      <td>5.00</td>\n",
       "      <td>153.50</td>\n",
       "      <td>21.14</td>\n",
       "      <td>170.00</td>\n",
       "      <td>10.00</td>\n",
       "      <td>2.00</td>\n",
       "    </tr>\n",
       "    <tr>\n",
       "      <th>75%</th>\n",
       "      <td>7.50</td>\n",
       "      <td>472.00</td>\n",
       "      <td>26.23</td>\n",
       "      <td>170.00</td>\n",
       "      <td>10.00</td>\n",
       "      <td>2.00</td>\n",
       "    </tr>\n",
       "    <tr>\n",
       "      <th>max</th>\n",
       "      <td>9.50</td>\n",
       "      <td>628.00</td>\n",
       "      <td>39.03</td>\n",
       "      <td>204.00</td>\n",
       "      <td>12.00</td>\n",
       "      <td>2.00</td>\n",
       "    </tr>\n",
       "  </tbody>\n",
       "</table>\n",
       "</div>"
      ],
      "text/plain": [
       "      Distance Hardness  Mixing Eletric Current   Speed   Beads\n",
       "count   456.00   456.00  456.00          456.00  456.00  456.00\n",
       "mean      5.00   265.74   21.78          170.00   10.00    1.75\n",
       "std       2.74   169.95    7.58           19.65    1.16    0.43\n",
       "min       0.50   104.00    7.97          136.00    8.00    1.00\n",
       "25%       2.50   139.75   16.25          170.00   10.00    1.75\n",
       "50%       5.00   153.50   21.14          170.00   10.00    2.00\n",
       "75%       7.50   472.00   26.23          170.00   10.00    2.00\n",
       "max       9.50   628.00   39.03          204.00   12.00    2.00"
      ]
     },
     "execution_count": 5,
     "metadata": {},
     "output_type": "execute_result"
    }
   ],
   "source": [
    "measurements_df.describe().applymap(lambda value: f\"{value:.2f}\")"
   ]
  },
  {
   "cell_type": "code",
   "execution_count": 6,
   "metadata": {},
   "outputs": [
    {
     "data": {
      "image/png": "[encoded data removed]",
      "text/plain": [
       "<Figure size 1152x720 with 1 Axes>"
      ]
     },
     "metadata": {
      "needs_background": "light"
     },
     "output_type": "display_data"
    }
   ],
   "source": [
    "plot_hardness(\"1C1\", measurements_df)"
   ]
  },
  {
   "cell_type": "markdown",
   "metadata": {},
   "source": [
    "### Preprocessing\n",
    "\n",
    "Preprocessing the dataset using following steps:\n",
    "* Encode Bead Type feature\n",
    "* Use mean substitution and standard scaling for all features"
   ]
  },
  {
   "cell_type": "code",
   "execution_count": 7,
   "metadata": {},
   "outputs": [],
   "source": [
    "encoder = preprocessing.LabelEncoder()\n",
    "measurements_df[\"Bead Type Feature\"] = encoder.fit_transform(measurements_df[\"Bead Type\"].values)"
   ]
  },
  {
   "cell_type": "markdown",
   "metadata": {},
   "source": [
    "Select 3 samples as test data (each material sample is 19 data points). <br>\n",
    "Samples were drawn randomly, but kept constant for all experiments."
   ]
  },
  {
   "cell_type": "code",
   "execution_count": 8,
   "metadata": {},
   "outputs": [],
   "source": [
    "sample_names = measurements_df[\"Sample\"].unique()\n",
    "# Samples drawn in first run of function were: {\"6C3\", \"2C1\", \"3C2 L\"}\n",
    "test_samples = sample_names[np.random.randint(0, len(sample_names), 3)]"
   ]
  },
  {
   "cell_type": "code",
   "execution_count": 9,
   "metadata": {},
   "outputs": [
    {
     "data": {
      "text/plain": [
       "(57, 399)"
      ]
     },
     "execution_count": 9,
     "metadata": {},
     "output_type": "execute_result"
    }
   ],
   "source": [
    "test_df = measurements_df.loc[measurements_df[\"Sample\"].isin(test_samples)]\n",
    "measurements_df = measurements_df.loc[~measurements_df[\"Sample\"].isin(test_samples)]\n",
    "len(test_df), len(measurements_df)"
   ]
  },
  {
   "cell_type": "markdown",
   "metadata": {},
   "source": [
    "Split remaining data into test and validation sets with 70-30 ratio."
   ]
  },
  {
   "cell_type": "code",
   "execution_count": 10,
   "metadata": {},
   "outputs": [],
   "source": [
    "train_df, validation_df = train_test_split(measurements_df, test_size=0.3, random_state=40)"
   ]
  },
  {
   "cell_type": "markdown",
   "metadata": {},
   "source": [
    "Create two preprocessing objects, for features and labels."
   ]
  },
  {
   "cell_type": "code",
   "execution_count": 11,
   "metadata": {},
   "outputs": [],
   "source": [
    "feature_preprocessor = preprocessing.StandardScaler(with_mean=True, with_std=True)\n",
    "target_preprocessor = preprocessing.StandardScaler(with_mean=True, with_std=True)"
   ]
  },
  {
   "cell_type": "markdown",
   "metadata": {},
   "source": [
    "Store preprocessor objects to be reused for inverse transformation"
   ]
  },
  {
   "cell_type": "code",
   "execution_count": 18,
   "metadata": {},
   "outputs": [
    {
     "data": {
      "text/plain": [
       "['../models/target_preprocessor.joblib']"
      ]
     },
     "execution_count": 18,
     "metadata": {},
     "output_type": "execute_result"
    }
   ],
   "source": [
    "joblib.dump(feature_preprocessor, r\"../models/feature_preprocessor.joblib\")\n",
    "joblib.dump(target_preprocessor, r\"../models/target_preprocessor.joblib\")"
   ]
  },
  {
   "cell_type": "markdown",
   "metadata": {},
   "source": [
    "Select columns used for features and targets"
   ]
  },
  {
   "cell_type": "code",
   "execution_count": 12,
   "metadata": {},
   "outputs": [],
   "source": [
    "feature_columns = [\"Distance\", \"Electric Current\", \"Speed\", \"Beads\", \"Bead Type Feature\"]\n",
    "target_columns = [\"Hardness\"]"
   ]
  },
  {
   "cell_type": "markdown",
   "metadata": {},
   "source": [
    "Fit and transform training data."
   ]
  },
  {
   "cell_type": "code",
   "execution_count": 13,
   "metadata": {},
   "outputs": [],
   "source": [
    "train_df[feature_columns] = feature_preprocessor.fit_transform(train_df[feature_columns])\n",
    "train_df[target_columns] = target_preprocessor.fit_transform(train_df[target_columns])"
   ]
  },
  {
   "cell_type": "markdown",
   "metadata": {},
   "source": [
    "Transform validation and test data using fitted scalers. <br>\n",
    "Do not transform targets for validation and test set, predictions will be inversly transformed to evaluate the model."
   ]
  },
  {
   "cell_type": "code",
   "execution_count": 14,
   "metadata": {},
   "outputs": [],
   "source": [
    "validation_df[feature_columns] = feature_preprocessor.transform(validation_df[feature_columns])\n",
    "test_df[feature_columns] = feature_preprocessor.transform(test_df[feature_columns])"
   ]
  },
  {
   "cell_type": "markdown",
   "metadata": {},
   "source": [
    "Store resulting data frames into files"
   ]
  },
  {
   "cell_type": "code",
   "execution_count": 16,
   "metadata": {},
   "outputs": [],
   "source": [
    "train_df[feature_columns + target_columns].to_csv(r\"../data/train.csv\", index=False)\n",
    "validation_df[feature_columns + target_columns].to_csv(r\"../data/validation.csv\", index=False)\n",
    "test_df[feature_columns + target_columns].to_csv(r\"../data/test.csv\", index=False)"
   ]
  }
 ],
 "metadata": {
  "interpreter": {
   "hash": "efa3d562d65f24bf888981cf72a29e704ff41176defcacbbb65f808d5310af91"
  },
  "kernelspec": {
   "display_name": "Python 3.7.9 64-bit ('venv': venv)",
   "language": "python",
   "name": "python3"
  },
  "language_info": {
   "codemirror_mode": {
    "name": "ipython",
    "version": 3
   },
   "file_extension": ".py",
   "mimetype": "text/x-python",
   "name": "python",
   "nbconvert_exporter": "python",
   "pygments_lexer": "ipython3",
   "version": "3.7.9"
  },
  "orig_nbformat": 4
 },
 "nbformat": 4,
 "nbformat_minor": 2
}
